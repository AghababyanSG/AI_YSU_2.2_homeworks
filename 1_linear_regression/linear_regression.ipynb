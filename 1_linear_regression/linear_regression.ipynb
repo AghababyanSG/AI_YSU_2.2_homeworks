{
 "nbformat": 4,
 "nbformat_minor": 0,
 "metadata": {
  "colab": {
   "provenance": []
  },
  "kernelspec": {
   "name": "python3",
   "language": "python",
   "display_name": "Python 3 (ipykernel)"
  },
  "language_info": {
   "name": "python"
  }
 },
 "cells": [
  {
   "cell_type": "markdown",
   "source": [
    "This notebook gives an example of linear regression usage.\n",
    "The formulation of problem is the following:\n",
    "\n",
    "We have a dataset $X\\in R^{nxd}$ where $n$ is a number of samples and $d$ number of features, and $Y\\in R^{nxl}$ target data with $l$ number of features, find $W\\in R^{dxl}$ for which $$\\|XW - Y\\|$$ takes the minimum value, where $\\|\\cdot\\|$ means sum of squares of all entries.\n",
    "\n",
    "For a tutorial and implementation using sklearn library see e.g. [here](https://realpython.com/linear-regression-in-python/)."
   ],
   "metadata": {
    "id": "5fR9OSTbdLA4"
   }
  },
  {
   "cell_type": "code",
   "execution_count": 2,
   "metadata": {
    "id": "-vPGQgPx3IHs",
    "ExecuteTime": {
     "end_time": "2024-04-03T22:35:19.997318Z",
     "start_time": "2024-04-03T22:35:19.994382Z"
    }
   },
   "outputs": [],
   "source": [
    "import numpy as np"
   ]
  },
  {
   "cell_type": "code",
   "source": [
    "def lin_reg_coefs(x, y):\n",
    "    '''\n",
    "    x: input data, need to append column of 1s for bias\n",
    "    y: target data\n",
    "    '''\n",
    "    # compute pseudoinverse using np.linalg\n",
    "    x_pse = np.linalg.pinv(x)\n",
    "    w = np.dot(x_pse, y)\n",
    "    #another extended formula w = np.dot(np.linalg.inv(np.dot(x.T, x)), y)\n",
    "    return w\n",
    "\n",
    "\n",
    "def lin_reg_l2(x, y, w):\n",
    "    '''\n",
    "    x: input data\n",
    "    y: target data\n",
    "    w: given parameters\n",
    "    '''\n",
    "    y_pred = np.dot(x, w)\n",
    "    # mean square error\n",
    "    return np.sqrt(np.mean((y_pred - y) ** 2))"
   ],
   "metadata": {
    "id": "b8evJxg95Czj",
    "ExecuteTime": {
     "end_time": "2024-04-03T22:35:20.222307Z",
     "start_time": "2024-04-03T22:35:20.216870Z"
    }
   },
   "execution_count": 3,
   "outputs": []
  },
  {
   "cell_type": "markdown",
   "source": [
    "Now let's test the functions"
   ],
   "metadata": {
    "id": "OGSR-8HJljY5"
   }
  },
  {
   "cell_type": "code",
   "source": [
    "\n",
    "x = np.random.rand(10, 5)\n",
    "# y = np.random.rand(10, 8)\n",
    "w_0 = np.arange(5)\n",
    "y = np.dot(x, w_0)\n",
    "w = lin_reg_coefs(x, y)\n",
    "print(w, w.shape)\n"
   ],
   "metadata": {
    "colab": {
     "base_uri": "https://localhost:8080/"
    },
    "id": "P0agl1CLhl-g",
    "executionInfo": {
     "status": "ok",
     "timestamp": 1676580459978,
     "user_tz": -240,
     "elapsed": 293,
     "user": {
      "displayName": "Ստեփան Սարգսյան",
      "userId": "17563089324629164814"
     }
    },
    "outputId": "6233081b-8c18-496b-a994-d3ede391c877",
    "ExecuteTime": {
     "end_time": "2024-04-03T22:35:20.579902Z",
     "start_time": "2024-04-03T22:35:20.562780Z"
    }
   },
   "execution_count": 4,
   "outputs": [
    {
     "name": "stdout",
     "output_type": "stream",
     "text": [
      "[5.99520433e-15 1.00000000e+00 2.00000000e+00 3.00000000e+00\n",
      " 4.00000000e+00] (5,)\n"
     ]
    }
   ]
  },
  {
   "cell_type": "code",
   "source": [
    "error = lin_reg_l2(x, y, w)\n",
    "print(error)"
   ],
   "metadata": {
    "colab": {
     "base_uri": "https://localhost:8080/"
    },
    "id": "Ij4rbn2BlhW7",
    "executionInfo": {
     "status": "ok",
     "timestamp": 1676580466280,
     "user_tz": -240,
     "elapsed": 309,
     "user": {
      "displayName": "Ստեփան Սարգսյան",
      "userId": "17563089324629164814"
     }
    },
    "outputId": "c8ab7518-9635-49c5-e477-3664b41d49c4",
    "ExecuteTime": {
     "end_time": "2024-04-03T22:35:20.728991Z",
     "start_time": "2024-04-03T22:35:20.726780Z"
    }
   },
   "execution_count": 5,
   "outputs": [
    {
     "name": "stdout",
     "output_type": "stream",
     "text": [
      "1.5653750946155902e-15\n"
     ]
    }
   ]
  },
  {
   "cell_type": "code",
   "source": [
    "# Some plots\n",
    "import matplotlib.pyplot as plt\n",
    "\n",
    "\n",
    "def plot_linear_regression(X, y, y_pred):\n",
    "    plt.scatter(X, y, color='blue')\n",
    "    plt.plot(X, y_pred, color='red')\n",
    "    plt.xlabel('X')\n",
    "    plt.ylabel('y')\n",
    "    plt.show()\n",
    "\n",
    "\n",
    "# Example usage:\n",
    "X = np.array([0, 1, 2, 3, 4, 5, 6, 7, 8, 9])\n",
    "y = np.array([1, 3, 2, 5, 7, 8, 8, 9, 10, 12])\n",
    "\n",
    "# Calculate the parameters of the linear regression model\n",
    "w = np.polyfit(X, y, 1)[0]\n",
    "b = np.polyfit(X, y, 1)[1]\n",
    "\n",
    "# Calculate the predicted values\n",
    "y_pred = w * X + b\n",
    "\n",
    "# Plot the result\n",
    "plot_linear_regression(X, y, y_pred)"
   ],
   "metadata": {
    "id": "nF1HAeBPpiLL",
    "executionInfo": {
     "status": "ok",
     "timestamp": 1676580469931,
     "user_tz": -240,
     "elapsed": 1012,
     "user": {
      "displayName": "Ստեփան Սարգսյան",
      "userId": "17563089324629164814"
     }
    },
    "outputId": "161fb8ea-1df8-44bc-cc37-8a75ddff8b12",
    "colab": {
     "base_uri": "https://localhost:8080/",
     "height": 279
    },
    "ExecuteTime": {
     "end_time": "2024-04-03T22:35:21.225203Z",
     "start_time": "2024-04-03T22:35:20.937619Z"
    }
   },
   "execution_count": 6,
   "outputs": [
    {
     "data": {
      "text/plain": "<Figure size 640x480 with 1 Axes>",
      "image/png": "[encoded data removed]"
     },
     "metadata": {},
     "output_type": "display_data"
    }
   ]
  },
  {
   "cell_type": "markdown",
   "source": [
    "As an exercises:\n",
    "\n",
    "1. Implement the above functions using numpy.sklearn library\n",
    "2. Write a function which will return best n-th order polynomial coefficients for a given $(x_i,y_i), i=0,1,...,n+1$ in terms of mean square error, i.e. $$\\sum_{i}\\big[y_i - P(x_i)\\big]^2$$ where $P$ is the required polynomial"
   ],
   "metadata": {
    "id": "jCMxO-SfnNyt"
   }
  },
  {
   "cell_type": "code",
   "outputs": [],
   "source": [
    "from sklearn.linear_model import LinearRegression\n",
    "\n",
    "\n",
    "def lin_reg_coefs_sklearn(x, y):\n",
    "    '''\n",
    "    x: input data\n",
    "    y: target data\n",
    "    '''\n",
    "    reg = LinearRegression().fit(x, y)\n",
    "    return reg.coef_\n",
    "\n",
    "\n",
    "def lin_reg_l2_sklearn(x, y, w):\n",
    "    '''\n",
    "    x: input data\n",
    "    y: target data\n",
    "    w: given parameters\n",
    "    '''\n",
    "    reg = LinearRegression().fit(x, y)\n",
    "    y_pred = reg.predict(x)\n",
    "    # mean square error\n",
    "    return np.sqrt(np.mean((y_pred - y) ** 2))"
   ],
   "metadata": {
    "collapsed": false,
    "ExecuteTime": {
     "end_time": "2024-04-03T22:36:04.721113Z",
     "start_time": "2024-04-03T22:36:04.717993Z"
    }
   },
   "execution_count": 7
  },
  {
   "cell_type": "code",
   "outputs": [
    {
     "name": "stdout",
     "output_type": "stream",
     "text": [
      "[-8.07237045  1.27993741  5.57414416  5.17857787  6.64768767  4.9980538\n",
      " -5.31342121  3.90877773 -0.63452639  0.91144478  2.68425017  1.74088193\n",
      "  6.62477183  7.47220467  5.89695556] (15,)\n",
      "5.944827041546401e-15\n"
     ]
    }
   ],
   "source": [
    "x = np.random.rand(10, 15)\n",
    "w_0 = np.arange(15)\n",
    "y = np.dot(x, w_0)\n",
    "\n",
    "w_sklearn = lin_reg_coefs_sklearn(x, y)\n",
    "print(w_sklearn, w_sklearn.shape)\n",
    "\n",
    "error_sklearn = lin_reg_l2_sklearn(x, y, w_sklearn)\n",
    "print(error_sklearn)"
   ],
   "metadata": {
    "collapsed": false,
    "ExecuteTime": {
     "end_time": "2024-04-03T22:37:00.383232Z",
     "start_time": "2024-04-03T22:37:00.378121Z"
    }
   },
   "execution_count": 9
  },
  {
   "cell_type": "code",
   "outputs": [
    {
     "name": "stdout",
     "output_type": "stream",
     "text": [
      "Coefficients of the best polynomial: [ 0.0027195  -0.05944056  1.4996115   0.8951049 ]\n"
     ]
    }
   ],
   "source": [
    "def best_polynomial_coefficients(x, y, n):\n",
    "    '''\n",
    "    x: input data\n",
    "    y: target data\n",
    "    n: degree of the polynomial\n",
    "    '''\n",
    "    coefficients = np.polyfit(x, y, n)\n",
    "    return coefficients\n",
    "\n",
    "\n",
    "# Example usage:\n",
    "X = np.array([0, 1, 2, 3, 4, 5, 6, 7, 8, 9])\n",
    "y = np.array([1, 3, 2, 5, 7, 8, 8, 9, 10, 12])\n",
    "n = 3  # degree of the polynomial\n",
    "\n",
    "coefficients = best_polynomial_coefficients(X, y, n)\n",
    "print(\"Coefficients of the best polynomial:\", coefficients)"
   ],
   "metadata": {
    "collapsed": false,
    "ExecuteTime": {
     "end_time": "2024-04-03T22:37:45.064702Z",
     "start_time": "2024-04-03T22:37:45.060947Z"
    }
   },
   "execution_count": 10
  }
 ]
}
